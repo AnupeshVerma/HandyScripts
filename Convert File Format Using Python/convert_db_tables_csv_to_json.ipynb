{
 "cells": [
  {
   "cell_type": "code",
   "execution_count": null,
   "metadata": {},
   "outputs": [],
   "source": [
    "import glob\n",
    "import os\n",
    "import json\n",
    "import re\n",
    "import pandas as pd"
   ]
  },
  {
   "cell_type": "code",
   "execution_count": null,
   "metadata": {},
   "outputs": [],
   "source": [
    "SOURCE_BASE_DIR = 'Data/retail_db'\n",
    "TARGET_BASE_DIR = 'Data/retail_db_json'"
   ]
  },
  {
   "cell_type": "code",
   "execution_count": null,
   "metadata": {},
   "outputs": [],
   "source": [
    "def get_column_names(schemas, ds_name, sorting_key = 'column_position'):\n",
    "    column_details = schemas[ds_name]\n",
    "    columns = sorted(column_details, key=lambda x: x[sorting_key])\n",
    "    return [col['column_name'] for col in columns]"
   ]
  },
  {
   "cell_type": "code",
   "execution_count": null,
   "metadata": {},
   "outputs": [],
   "source": [
    "def read_csv_to_df(file, schemas):\n",
    "    file_path_list = re.split('[/\\\\\\]', file)\n",
    "    ds_name = file_path_list[-2]\n",
    "    columns = get_column_names(schemas, ds_name)\n",
    "    df = pd.read_csv(file, names=columns, header=None)\n",
    "    return df"
   ]
  },
  {
   "cell_type": "code",
   "execution_count": null,
   "metadata": {},
   "outputs": [],
   "source": [
    "def convert_to_jsonl(df, ds_name, file_name):\n",
    "    json_file_path = f'{TARGET_BASE_DIR}/{ds_name}/{file_name}'\n",
    "    os.makedirs(f'{TARGET_BASE_DIR}/{ds_name}', exist_ok=True)\n",
    "    df.to_json(\n",
    "        json_file_path,\n",
    "        orient='records',\n",
    "        lines=True,\n",
    "    )"
   ]
  },
  {
   "cell_type": "code",
   "execution_count": null,
   "metadata": {},
   "outputs": [],
   "source": [
    "def file_converter(ds_name):\n",
    "    schemas = json.load(open(f'{SOURCE_BASE_DIR}/schemas.json'))\n",
    "    files = glob.glob(f'{SOURCE_BASE_DIR}/{ds_name}/part-*')\n",
    "\n",
    "    for file in files:\n",
    "        df = read_csv_to_df(file, schemas)\n",
    "        file_name =  re.split('[/\\\\\\]', file)[-1]\n",
    "        convert_to_jsonl(df, ds_name, file_name)"
   ]
  },
  {
   "cell_type": "code",
   "execution_count": null,
   "metadata": {},
   "outputs": [],
   "source": [
    "def process_files(ds_names = None):\n",
    "    if ds_names is None:\n",
    "        schemas = json.load(open(f'{SOURCE_BASE_DIR}/schemas.json'))\n",
    "        ds_names = schemas.keys()\n",
    "    \n",
    "    for ds_name in ds_names:\n",
    "        file_converter(ds_name)"
   ]
  },
  {
   "cell_type": "code",
   "execution_count": null,
   "metadata": {},
   "outputs": [],
   "source": [
    "process_files()"
   ]
  }
 ],
 "metadata": {
  "kernelspec": {
   "display_name": ".venv",
   "language": "python",
   "name": "python3"
  },
  "language_info": {
   "codemirror_mode": {
    "name": "ipython",
    "version": 3
   },
   "file_extension": ".py",
   "mimetype": "text/x-python",
   "name": "python",
   "nbconvert_exporter": "python",
   "pygments_lexer": "ipython3",
   "version": "3.13.2"
  }
 },
 "nbformat": 4,
 "nbformat_minor": 2
}
