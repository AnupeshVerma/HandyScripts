{
 "cells": [
  {
   "cell_type": "code",
   "execution_count": 56,
   "metadata": {},
   "outputs": [],
   "source": [
    "import glob\n",
    "import os\n",
    "import json\n",
    "import re\n",
    "import pandas as pd"
   ]
  },
  {
   "cell_type": "code",
   "execution_count": 57,
   "metadata": {},
   "outputs": [],
   "source": [
    "SOURCE_BASE_DIR = 'Data/retail_db/customers'\n",
    "TARGET_BASE_DIR = 'Data/retail_db_json'"
   ]
  },
  {
   "cell_type": "code",
   "execution_count": 58,
   "metadata": {},
   "outputs": [],
   "source": [
    "def read_csv_to_df(file):\n",
    "    column_names = ['customer_id', 'customer_fname', 'customer_lname', 'customer_email', 'customer_password', 'customer_street', 'customer_city', 'customer_state', 'customer_zipcode']\n",
    "    df = pd.read_csv(file, names = column_names, header=None)\n",
    "    return df"
   ]
  },
  {
   "cell_type": "code",
   "execution_count": 59,
   "metadata": {},
   "outputs": [],
   "source": [
    "def convert_to_jsonl(df, file_name):\n",
    "    json_file_path = f'{TARGET_BASE_DIR}/{file_name}'\n",
    "    os.makedirs(f'{TARGET_BASE_DIR}', exist_ok=True)\n",
    "    df.to_json(\n",
    "        json_file_path,\n",
    "        orient='records',\n",
    "        lines=True,\n",
    "    )"
   ]
  },
  {
   "cell_type": "code",
   "execution_count": 60,
   "metadata": {},
   "outputs": [],
   "source": [
    "def file_converter():\n",
    "    files = glob.glob(f'{SOURCE_BASE_DIR}/*')\n",
    "\n",
    "    for file in files:\n",
    "        df = read_csv_to_df(file)\n",
    "        file_name =  re.split('[/]', file)[-1]\n",
    "        print(f'Converting {file} to {file_name}')\n",
    "        convert_to_jsonl(df, file_name)"
   ]
  },
  {
   "cell_type": "code",
   "execution_count": 61,
   "metadata": {},
   "outputs": [
    {
     "name": "stdout",
     "output_type": "stream",
     "text": [
      "Converting Data/retail_db/customers/part-00000 to part-00000\n"
     ]
    }
   ],
   "source": [
    "\n",
    "file_converter()"
   ]
  },
  {
   "cell_type": "code",
   "execution_count": null,
   "metadata": {},
   "outputs": [],
   "source": []
  }
 ],
 "metadata": {
  "kernelspec": {
   "display_name": ".venv",
   "language": "python",
   "name": "python3"
  },
  "language_info": {
   "codemirror_mode": {
    "name": "ipython",
    "version": 3
   },
   "file_extension": ".py",
   "mimetype": "text/x-python",
   "name": "python",
   "nbconvert_exporter": "python",
   "pygments_lexer": "ipython3",
   "version": "3.13.2"
  }
 },
 "nbformat": 4,
 "nbformat_minor": 2
}
