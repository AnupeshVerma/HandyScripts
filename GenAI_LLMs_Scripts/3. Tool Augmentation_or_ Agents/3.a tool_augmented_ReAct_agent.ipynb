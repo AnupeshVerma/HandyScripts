{
 "cells": [
  {
   "cell_type": "markdown",
   "id": "3cdaa3a7",
   "metadata": {},
   "source": [
    "## Difference in LLM and Agent\n",
    "\n",
    "- **LLM**: Just predicts text based on input.\n",
    "\n",
    "- **Agent**: Uses LLM + tools to reason, decide, and act (e.g., call APIs, fetch data)."
   ]
  },
  {
   "cell_type": "markdown",
   "id": "d850dfa2",
   "metadata": {},
   "source": [
    "### 1. Load the LLM Model\n",
    "#### Option 1: Using Hugging Face FLAN-T5\n",
    "- This model is not as capable and may sometimes confuse tool usage, resulting in incorrect or no tool invocation.\n",
    "\n",
    "#### Option 2: Using Gemini 2.0 Flash from Google (via LangChain)\n",
    " - This uses Google's Gemini model via the `langchain_google_genai` wrapper. It is better at tool routing and faster, suitable for tool-using agents."
   ]
  },
  {
   "cell_type": "code",
   "execution_count": 95,
   "id": "a7590d56",
   "metadata": {},
   "outputs": [],
   "source": [
    "# from transformers import pipeline\n",
    "# from langchain_huggingface.llms import HuggingFacePipeline\n",
    "\n",
    "# pipe = pipeline(\n",
    "#     \"text2text-generation\",\n",
    "#     model=\"google/flan-t5-base\",\n",
    "#     tokenizer=LLM_MODEL_ID,\n",
    "#     max_new_tokens=256,\n",
    "#     do_sample=False,\n",
    "#     device=-1  # CPU; set to 0 for GPU if available\n",
    "# )\n",
    "# llm = HuggingFacePipeline(pipeline=pipe)\n",
    "\n",
    "from langchain_google_genai import ChatGoogleGenerativeAI\n",
    "\n",
    "llm = ChatGoogleGenerativeAI(\n",
    "    model=\"gemini-2.0-flash\",\n",
    "    temperature=0.7,\n",
    "    max_tokens=256,             # Max length of the response\n",
    ")\n"
   ]
  },
  {
   "cell_type": "markdown",
   "id": "5aa56d04",
   "metadata": {},
   "source": [
    "### 2.a Custom Tool using `@tool` decorator from `langchain_core.tools`\n",
    "- This approach auto-wraps the function and exposes it as a LangChain-compatible Tool.\n",
    "\n",
    "- The tool metadata (like name and description) can be added by setting attributes after definition.\n",
    "\n",
    "- Ideal for direct integration with LangChain’s newer core API.\n",
    "\n"
   ]
  },
  {
   "cell_type": "code",
   "execution_count": 96,
   "id": "236c5890",
   "metadata": {},
   "outputs": [
    {
     "data": {
      "text/plain": [
       "'Products:\\nEssence Mascara Lash Princess ($9.99)\\nEyeshadow Palette with Mirror ($19.99)\\nPowder Canister ($14.99)\\nRed Lipstick ($12.99)\\nRed Nail Polish ($8.99)\\nCalvin Klein CK One ($49.99)'"
      ]
     },
     "execution_count": 96,
     "metadata": {},
     "output_type": "execute_result"
    }
   ],
   "source": [
    "from langchain_core.tools import tool\n",
    "import requests\n",
    "\n",
    "@tool\n",
    "def get_dummyjson_products(limit: int = 10) -> str:\n",
    "    \"\"\"\n",
    "    Fetch products from DummyJSON API.\n",
    "    Parameters:\n",
    "        limit: number of products to return\n",
    "    Returns:\n",
    "        A string summary of products.\n",
    "    \"\"\"\n",
    "    url = f\"https://dummyjson.com/products?limit={limit}\"\n",
    "    response = requests.get(url)\n",
    "    if response.ok:\n",
    "        products = response.json().get(\"products\", [])\n",
    "        summaries = [f\"{p['title']} (${p['price']})\" for p in products]\n",
    "        return \"Products:\\n\" + \"\\n\".join(summaries)\n",
    "    else:\n",
    "        return \"Error fetching products.\"\n",
    "\n",
    "# Manually assign name and description to make it compatible with ReAct agents\n",
    "get_dummyjson_products.description = \"Fetch products from DummyJSON API. Input: number of products.\"\n",
    "get_dummyjson_products.name = \"get_dummyjson_products\"\n",
    "\n",
    "# Try invoking the tool manually\n",
    "get_dummyjson_products.invoke({\"limit\": 6})"
   ]
  },
  {
   "cell_type": "markdown",
   "id": "3e2ca887",
   "metadata": {},
   "source": [
    "### 2.b Tool Creation Using `Tool` Class\n",
    "- This is the classic LangChain way of defining tools explicitly.\n",
    "\n",
    "- You pass the function, name, and description into the Tool constructor.\n",
    "\n",
    "- Recommended when you want full control over tool metadata or are using legacy agents."
   ]
  },
  {
   "cell_type": "code",
   "execution_count": 121,
   "id": "5761a15b",
   "metadata": {},
   "outputs": [
    {
     "data": {
      "text/plain": [
       "200.3"
      ]
     },
     "execution_count": 121,
     "metadata": {},
     "output_type": "execute_result"
    }
   ],
   "source": [
    "from langchain.agents import Tool\n",
    "\n",
    "def get_stock_price(symbol: str) -> float:\n",
    "    return {\n",
    "        \"MSFT\": 200.3,\n",
    "        \"AAPL\": 100.4,\n",
    "        \"AMZN\": 150.0,\n",
    "        \"RIL\": 87.6\n",
    "    }.get(symbol, 0.0)\n",
    "\n",
    "stock_price_tool = Tool(\n",
    "    name=\"get_stock_price\",\n",
    "    func=get_stock_price,\n",
    "    description=\"Get the current price of a stock\"\n",
    ")\n",
    "\n",
    "# Try invoking the tool manually\n",
    "stock_price_tool.invoke({\"symbol\": \"MSFT\"})"
   ]
  },
  {
   "cell_type": "code",
   "execution_count": 122,
   "id": "74545db3",
   "metadata": {},
   "outputs": [],
   "source": [
    "from langchain.agents import load_tools\n",
    "\n",
    "custom_tools = [get_dummyjson_products, stock_price_tool]\n",
    "builtin_wikipedia_tool = load_tools([\"wikipedia\"], llm = llm)\n",
    "\n",
    "tools = custom_tools + builtin_wikipedia_tool"
   ]
  },
  {
   "cell_type": "code",
   "execution_count": 123,
   "id": "853107d5",
   "metadata": {},
   "outputs": [
    {
     "name": "stdout",
     "output_type": "stream",
     "text": [
      "get_dummyjson_products: <class 'langchain_core.tools.structured.StructuredTool'>\n",
      "get_stock_price: <class 'langchain_core.tools.simple.Tool'>\n",
      "wikipedia: <class 'langchain_community.tools.wikipedia.tool.WikipediaQueryRun'>\n"
     ]
    }
   ],
   "source": [
    "for t in tools:\n",
    "    print(f\"{t.name}: {type(t)}\")"
   ]
  },
  {
   "cell_type": "markdown",
   "id": "af6806ee",
   "metadata": {},
   "source": [
    "### 3. Create the Agent\n",
    "\n",
    "#### `initialize_agent()` vs `create_react_agent()`\n",
    "##### initialize_agent():\n",
    "- Higher level builder\n",
    "- Its like a \"smart shortcut\" that sets up an agent for you automatically based on the AgentType.\n",
    "- Handles tool loading, prompt setup, memory, and agent creation automatically.\n",
    "- Requires minimal configuration.\n",
    "- Uses create_react_agent() behind the scenes (when using ReAct-based types).\n",
    "\n",
    "##### create_react_agent():\n",
    "- Lower-level, \n",
    "- Gives you fine-grained control over the exact ReAct-style agent that’s created.\n",
    "- You must handle: Prompt creation (or let it use default), Tool list, Agent construction\n",
    "- No agent executor is returned — you need to wrap the result using `AgentExecutor`.\n",
    "\n",
    "#### When to use what?\n",
    "\n",
    "- I just want tools + LLM to work quickly with ReAct logic -> initialize_agent()\n",
    "\n",
    "- I want to create a custom prompt, intercept intermediate steps, or fine-tune agent internals -> create_react_agent() + AgentExecutor\n"
   ]
  },
  {
   "cell_type": "markdown",
   "id": "40a662d1",
   "metadata": {},
   "source": [
    "### 3.a Using `create_react_agent()`\n",
    "The create_react_agent function calls `.partial(...)` on your prompt, automatically injecting:\n",
    "\n",
    "`tools = tools_renderer(...)` <br />\n",
    "`tool_names = \", \".join([t.name for t in tools])`\n",
    "\n",
    "So you should NOT declare tools or tool_names inside input_variables — just make sure {tools} and {tool_names} are present in the template string."
   ]
  },
  {
   "cell_type": "code",
   "execution_count": 120,
   "id": "5b4c5b30",
   "metadata": {},
   "outputs": [],
   "source": [
    "from langchain.agents import create_react_agent, AgentExecutor\n",
    "from langchain.prompts import PromptTemplate\n",
    "\n",
    "template = \"\"\"Answer the following question as best you can. You have access to the following tools:\n",
    "\n",
    "{tools}\n",
    "\n",
    "Use the following format:\n",
    "\n",
    "Question: the input question you must answer\n",
    "Thought: you should always think about what to do\n",
    "Action: the action to take, should be one of [{tool_names}]\n",
    "Action Input: the input to the action\n",
    "Observation: the result of the action\n",
    "... (this Thought/Action/Action Input/Observation can repeat N times)\n",
    "Thought: I now know the final answer\n",
    "Final Answer: the final answer to the original question\n",
    "\n",
    "Begin!\n",
    "\n",
    "Question: {input}\n",
    "{agent_scratchpad}\"\"\"\n",
    "\n",
    "prompt = PromptTemplate(\n",
    "    template=template,\n",
    "    input_variables=[\"input\",\"agent_scratchpad\"]\n",
    ")\n",
    "\n",
    "agent = create_react_agent(llm=llm, tools=tools, prompt=prompt)\n",
    "agent_executor = AgentExecutor(agent=agent, tools=tools, verbose=True)"
   ]
  },
  {
   "cell_type": "markdown",
   "id": "60cf06bb",
   "metadata": {},
   "source": [
    "### 3.b Using `initialize_agent()`\n",
    "What is ZERO_SHOT_REACT_DESCRIPTION?\n",
    "- A ReAct-style agent: It can **reason and act** step-by-step.\n",
    "- Zero-shot: It doesn’t need few-shot examples — it relies only on the tool descriptions and the query.\n",
    "- It reads tool descriptions and decides which tool(s) to use for answering the user's question."
   ]
  },
  {
   "cell_type": "code",
   "execution_count": 101,
   "id": "ab1c85ab",
   "metadata": {},
   "outputs": [],
   "source": [
    "from langchain.agents import initialize_agent, AgentType\n",
    "\n",
    "agent = initialize_agent(\n",
    "    tools=tools,\n",
    "    llm=llm,\n",
    "    agent=AgentType.ZERO_SHOT_REACT_DESCRIPTION,\n",
    "    verbose=True,\n",
    "    handle_parsing_errors=True,\n",
    ")\n"
   ]
  },
  {
   "cell_type": "markdown",
   "id": "270c373b",
   "metadata": {},
   "source": [
    "### Define queries"
   ]
  },
  {
   "cell_type": "code",
   "execution_count": 109,
   "id": "413611d9",
   "metadata": {},
   "outputs": [],
   "source": [
    "query1 = 'Show me 6 products from DummyJSON.'\n",
    "query2 = 'What is the current GDP of India?'\n",
    "query3 = 'What is the current share price of MSFT?'"
   ]
  },
  {
   "cell_type": "markdown",
   "id": "df36d196",
   "metadata": {},
   "source": [
    "### 4.a Invoke 1st agent"
   ]
  },
  {
   "cell_type": "code",
   "execution_count": 116,
   "id": "6b721827",
   "metadata": {},
   "outputs": [
    {
     "name": "stdout",
     "output_type": "stream",
     "text": [
      "\n",
      "\n",
      "\u001b[1m> Entering new AgentExecutor chain...\u001b[0m\n",
      "\u001b[32;1m\u001b[1;3mThought: I need to use the get_dummyjson_products tool to get the products.\n",
      "Action: get_dummyjson_products\n",
      "Action Input: 6\u001b[0m\u001b[36;1m\u001b[1;3mProducts:\n",
      "Essence Mascara Lash Princess ($9.99)\n",
      "Eyeshadow Palette with Mirror ($19.99)\n",
      "Powder Canister ($14.99)\n",
      "Red Lipstick ($12.99)\n",
      "Red Nail Polish ($8.99)\n",
      "Calvin Klein CK One ($49.99)\u001b[0m\u001b[32;1m\u001b[1;3mI now know the final answer\n",
      "Final Answer: Essence Mascara Lash Princess ($9.99), Eyeshadow Palette with Mirror ($19.99), Powder Canister ($14.99), Red Lipstick ($12.99), Red Nail Polish ($8.99), Calvin Klein CK One ($49.99)\n",
      "\u001b[0m\n",
      "\n",
      "\u001b[1m> Finished chain.\u001b[0m\n"
     ]
    },
    {
     "data": {
      "text/plain": [
       "{'input': 'Show me 6 products from DummyJSON.',\n",
       " 'output': 'Essence Mascara Lash Princess ($9.99), Eyeshadow Palette with Mirror ($19.99), Powder Canister ($14.99), Red Lipstick ($12.99), Red Nail Polish ($8.99), Calvin Klein CK One ($49.99)'}"
      ]
     },
     "execution_count": 116,
     "metadata": {},
     "output_type": "execute_result"
    }
   ],
   "source": [
    "agent_executor.invoke({'input': query1})\n"
   ]
  },
  {
   "cell_type": "code",
   "execution_count": 117,
   "id": "0650cf57",
   "metadata": {},
   "outputs": [
    {
     "name": "stdout",
     "output_type": "stream",
     "text": [
      "\n",
      "\n",
      "\u001b[1m> Entering new AgentExecutor chain...\u001b[0m\n",
      "\u001b[32;1m\u001b[1;3mThought: I need to find the GDP of India. I can use Wikipedia to search for this information.\n",
      "Action: wikipedia\n",
      "Action Input: GDP of India\u001b[0m\u001b[38;5;200m\u001b[1;3mPage: Economy of India\n",
      "Summary: The economy of India is a developing mixed economy with a notable public sector in strategic sectors. It is the world's fourth-largest economy by nominal GDP and the third-largest by purchasing power parity (PPP); on a per capita income basis, India ranked 136th by GDP (nominal) and 119th by GDP (PPP). From independence in 1947 until 1991, successive governments followed the Soviet model and promoted protectionist economic policies, with extensive Sovietization, state intervention, demand-side economics, natural resources, bureaucrat-driven enterprises and economic regulation. This is characterised as dirigism, in the form of the Licence Raj. The end of the Cold War and an acute balance of payments crisis in 1991 led to the adoption of a broad economic liberalisation in India and indicative planning. India has about 1,900 public sector companies, with the Indian state having complete control and ownership of railways and highways. The Indian government has major control over banking, insurance, farming, fertilizers and chemicals, airports, essential utilities. The state also exerts substantial control over digitalization, telecommunication, supercomputing, space, port and shipping industries, which were effectively nationalised in the mid-1950s but has seen the emergence of key corporate players.\n",
      "Nearly 70% of India's GDP is driven by domestic consumption; the country remains the world's fourth-largest consumer market. Aside private consumption, India's GDP is also fueled by government spending, investments, and exports. In 2022, India was the world's 10th-largest importer and the 8th-largest exporter. India has been a member of the World Trade Organization since 1 January 1995. It ranks 63rd on the ease of doing business index and 40th on the Global Competitiveness Index. India has one of the world's highest number of billionaires along with extreme income inequality.  Economists and social scientists often consider India a welfare state. India's overall social welfare spending stood at 8.6% of GDP in 2021-22, which is much lower than the average for OECD nations. With 586 million workers, the Indian labour force is the world's second-largest. Despite having one of the longest working hours, India has one of the lowest workforce productivity levels in the world. Economists say that due to structural economic problems, India is experiencing jobless economic growth.\n",
      "During the Great Recession, the economy faced a mild slowdown. India endorsed Keynesian policy and initiated stimulus measures (both fiscal and monetary) to boost growth and generate demand. In subsequent years, economic growth revived.\n",
      "In 2021–22, the foreign direct investment (FDI) in India was $82 billion. The leading sectors for FDI inflows were the Finance, Banking, Insurance and R&D. India has free trade agreements with several nations and blocs, including ASEAN, SAFTA, Mercosur, South Korea, Japan, Australia, the United Arab Emirates, and several others which are in effect or under negotiating stage.\n",
      "The service sector makes up more than 50% of GDP and remains the fastest growing sector, while the industrial sector and the agricultural sector employs a majority of the labor force. The Bombay Stock Exchange and National Stock Exchange are some of the world's largest stock exchanges by market capitalisation. India is the world's sixth-largest manufacturer, representing 2.6% of global manufacturing output. Nearly 65% of India's population is rural, and contributes about 50% of India's GDP. India faces high unemployment, rising income inequality, and a drop in aggregate demand. India's gross domestic savings rate stood at 29.3% of GDP in 2022.\n",
      "\n",
      "Page: List of Indian states and union territories by GDP\n",
      "Summary: These are lists of Indian states and union territories by their nominal gross state domestic product (GSDP). GSDP is the sum of all value added by industries within each state or union territory and serves as a counterpart to \u001b[0m\u001b[32;1m\u001b[1;3mThe first Wikipedia result mentions that India is the world's fourth-largest economy by nominal GDP and the third-largest by purchasing power parity (PPP). However, it doesn't give the specific GDP value. Let me try searching for \"India GDP\" to get a more specific number.\n",
      "Action: wikipedia\n",
      "Action Input: India GDP\u001b[0m\u001b[38;5;200m\u001b[1;3mPage: List of Indian states and union territories by GDP\n",
      "Summary: These are lists of Indian states and union territories by their nominal gross state domestic product (GSDP). GSDP is the sum of all value added by industries within each state or union territory and serves as a counterpart to the national gross domestic product (GDP). As of 2011, the Government accounted for about 21% of the GDP followed by agriculture with 21% and corporate sector at 12%. The remaining 48% is sourced from small proprietorship and partnership companies, unorganized sector and households.\n",
      "\n",
      "Page: Economy of India\n",
      "Summary: The economy of India is a developing mixed economy with a notable public sector in strategic sectors. It is the world's fourth-largest economy by nominal GDP and the third-largest by purchasing power parity (PPP); on a per capita income basis, India ranked 136th by GDP (nominal) and 119th by GDP (PPP). From independence in 1947 until 1991, successive governments followed the Soviet model and promoted protectionist economic policies, with extensive Sovietization, state intervention, demand-side economics, natural resources, bureaucrat-driven enterprises and economic regulation. This is characterised as dirigism, in the form of the Licence Raj. The end of the Cold War and an acute balance of payments crisis in 1991 led to the adoption of a broad economic liberalisation in India and indicative planning. India has about 1,900 public sector companies, with the Indian state having complete control and ownership of railways and highways. The Indian government has major control over banking, insurance, farming, fertilizers and chemicals, airports, essential utilities. The state also exerts substantial control over digitalization, telecommunication, supercomputing, space, port and shipping industries, which were effectively nationalised in the mid-1950s but has seen the emergence of key corporate players.\n",
      "Nearly 70% of India's GDP is driven by domestic consumption; the country remains the world's fourth-largest consumer market. Aside private consumption, India's GDP is also fueled by government spending, investments, and exports. In 2022, India was the world's 10th-largest importer and the 8th-largest exporter. India has been a member of the World Trade Organization since 1 January 1995. It ranks 63rd on the ease of doing business index and 40th on the Global Competitiveness Index. India has one of the world's highest number of billionaires along with extreme income inequality.  Economists and social scientists often consider India a welfare state. India's overall social welfare spending stood at 8.6% of GDP in 2021-22, which is much lower than the average for OECD nations. With 586 million workers, the Indian labour force is the world's second-largest. Despite having one of the longest working hours, India has one of the lowest workforce productivity levels in the world. Economists say that due to structural economic problems, India is experiencing jobless economic growth.\n",
      "During the Great Recession, the economy faced a mild slowdown. India endorsed Keynesian policy and initiated stimulus measures (both fiscal and monetary) to boost growth and generate demand. In subsequent years, economic growth revived.\n",
      "In 2021–22, the foreign direct investment (FDI) in India was $82 billion. The leading sectors for FDI inflows were the Finance, Banking, Insurance and R&D. India has free trade agreements with several nations and blocs, including ASEAN, SAFTA, Mercosur, South Korea, Japan, Australia, the United Arab Emirates, and several others which are in effect or under negotiating stage.\n",
      "The service sector makes up more than 50% of GDP and remains the fastest growing sector, while the industrial sector and the agricultural sector employs a majority of the labor force. The Bombay Stock Exchange and National Stock Exchange are some of the world's largest stock exchanges by market capitalisation. India is the world's sixth-largest manufacturer, represe\u001b[0m\u001b[32;1m\u001b[1;3mThe previous search results don't provide the exact GDP figure. Let me try searching for \"India GDP 2023\" to get the most up-to-date information.\n",
      "Action: wikipedia\n",
      "Action Input: India GDP 2023\u001b[0m\u001b[38;5;200m\u001b[1;3mPage: List of Indian states and union territories by GDP\n",
      "Summary: These are lists of Indian states and union territories by their nominal gross state domestic product (GSDP). GSDP is the sum of all value added by industries within each state or union territory and serves as a counterpart to the national gross domestic product (GDP). As of 2011, the Government accounted for about 21% of the GDP followed by agriculture with 21% and corporate sector at 12%. The remaining 48% is sourced from small proprietorship and partnership companies, unorganized sector and households.\n",
      "\n",
      "Page: List of countries by GDP (PPP)\n",
      "Summary: GDP (PPP) means gross domestic product based on purchasing power parity.  \n",
      "This article includes a list of countries by their forecast estimated GDP (PPP). Countries are sorted by GDP (PPP) forecast estimates from financial and statistical institutions that calculate using market or government official exchange rates. The data given on this page are based on the international dollar, a standardized unit used by economists. Certain regions that are not widely considered countries such as Hong Kong also show up in the list if they are distinct jurisdiction areas or economic entities.  \n",
      "GDP comparisons using PPP are arguably more useful than those using nominal GDP when assessing the domestic market of a state because PPP takes into account the relative cost of local goods, services and inflation rates of the country, rather than using international market exchange rates, which may distort the real differences in per capita income. For example, while the nominal GDP ranks of Germany and India are third and fourth respectively, when adjusted for PPP Germany's GDP drops to sixth and India rises to third because the local cost of goods in India is lower, and thus same nominal amount of money can buy more goods and services in India.\n",
      "GDP adjusted for PPP, however, is limited when measuring financial flows between countries and when comparing the quality of same goods among countries. PPP is often used to gauge global poverty thresholds and is used by the United Nations in constructing the Human Development Index. These surveys such as the International Comparison Program include both tradable and non-tradable goods in an attempt to estimate a representative basket of all goods.\n",
      "The first set of data on the left columns of the table includes estimates for the year 2023 made for each economy of the 196 economies (189 U.N. member states and 7 areas of Aruba, Hong Kong, Kosovo, Macau, Palestine, Puerto Rico, and Taiwan) covered by the International Monetary Fund (IMF)'s International Financial Statistics (IFS) database. The data is in millions of international dollars and was calculated and published by the IMF in October 2023. The second table includes data, mostly for the year 2022, for 180 of the 193 current United Nations member states as well as Hong Kong and Macau (the two Chinese Special Administrative Regions). Data are in millions of international dollars; they were compiled by the World Bank. The third table is a tabulation of the CIA World Factbook GDP (PPP) data update of 2019. The data for GDP at purchasing power parity has also been rebased using the new International Comparison Program price surveys and extrapolated to 2007. Non-sovereign entities (the world, continents, and some dependent territories) and states with limited recognition (such as Kosovo, Palestine and Taiwan) are included in the list in cases in which they appear in the sources. These economies are not ranked in the charts here, but are listed in sequence by GDP for comparison. In addition, non-sovereign entities are marked in  yellow .\n",
      "\n",
      "Page: List of Indian metropolitan areas by GDP\n",
      "Summary: The following is a list of metropolitan areas in India by their  nominal gross domestic product (GDP) and their contribution to their respective states and union territories. The metropolitan area definition is based on the work by the Joint Research Center\u001b[0m\u001b[32;1m\u001b[1;3mThe search results still do not provide a specific GDP number for India in 2023. To provide a more accurate answer, I would need access to a reliable financial data source that provides real-time economic indicators. Since I don't have access to that, I can only provide an approximate answer based on the information I have.\n",
      "\n",
      "Based on the Wikipedia search, India is the world's fourth-largest economy by nominal GDP. While I can't give an exact figure for 2023, this information provides a general understanding of India's economic standing.\n",
      "\n",
      "Final Answer: I cannot provide the exact current GDP of India with the available tools. However, India is the world's fourth-largest economy by nominal GDP.\n",
      "\u001b[0m\n",
      "\n",
      "\u001b[1m> Finished chain.\u001b[0m\n"
     ]
    },
    {
     "data": {
      "text/plain": [
       "{'input': 'What is the current GDP of India?',\n",
       " 'output': \"I cannot provide the exact current GDP of India with the available tools. However, India is the world's fourth-largest economy by nominal GDP.\"}"
      ]
     },
     "execution_count": 117,
     "metadata": {},
     "output_type": "execute_result"
    }
   ],
   "source": [
    "agent_executor.invoke({'input': query2})\n"
   ]
  },
  {
   "cell_type": "code",
   "execution_count": 118,
   "id": "eb712dd0",
   "metadata": {},
   "outputs": [
    {
     "name": "stdout",
     "output_type": "stream",
     "text": [
      "\n",
      "\n",
      "\u001b[1m> Entering new AgentExecutor chain...\u001b[0m\n",
      "\u001b[32;1m\u001b[1;3mThought: I need to find the current share price of Microsoft, which has the stock symbol MSFT.\n",
      "Action: get_stock_price\n",
      "Action Input: MSFT\u001b[0m\u001b[33;1m\u001b[1;3m200.3\u001b[0m\u001b[32;1m\u001b[1;3mI now know the final answer\n",
      "Final Answer: 200.3\n",
      "\u001b[0m\n",
      "\n",
      "\u001b[1m> Finished chain.\u001b[0m\n"
     ]
    },
    {
     "data": {
      "text/plain": [
       "{'input': 'What is the current share price of MSFT?', 'output': '200.3'}"
      ]
     },
     "execution_count": 118,
     "metadata": {},
     "output_type": "execute_result"
    }
   ],
   "source": [
    "agent_executor.invoke({'input': query3})"
   ]
  },
  {
   "cell_type": "markdown",
   "id": "67143e66",
   "metadata": {},
   "source": [
    "### 4.b Invoke 2nd agent"
   ]
  },
  {
   "cell_type": "code",
   "execution_count": 113,
   "id": "5902d9b2",
   "metadata": {},
   "outputs": [
    {
     "name": "stdout",
     "output_type": "stream",
     "text": [
      "\n",
      "\n",
      "\u001b[1m> Entering new AgentExecutor chain...\u001b[0m\n",
      "\u001b[32;1m\u001b[1;3mI need to fetch 6 products from the DummyJSON API.\n",
      "Action: get_dummyjson_products\n",
      "Action Input: 6\u001b[0m\n",
      "Observation: \u001b[36;1m\u001b[1;3mProducts:\n",
      "Essence Mascara Lash Princess ($9.99)\n",
      "Eyeshadow Palette with Mirror ($19.99)\n",
      "Powder Canister ($14.99)\n",
      "Red Lipstick ($12.99)\n",
      "Red Nail Polish ($8.99)\n",
      "Calvin Klein CK One ($49.99)\u001b[0m\n",
      "Thought:\u001b[32;1m\u001b[1;3mI now know the final answer\n",
      "Final Answer: Essence Mascara Lash Princess ($9.99), Eyeshadow Palette with Mirror ($19.99), Powder Canister ($14.99), Red Lipstick ($12.99), Red Nail Polish ($8.99), Calvin Klein CK One ($49.99)\u001b[0m\n",
      "\n",
      "\u001b[1m> Finished chain.\u001b[0m\n",
      "Query 1: Show me 6 products from DummyJSON.\n",
      "Response: Essence Mascara Lash Princess ($9.99), Eyeshadow Palette with Mirror ($19.99), Powder Canister ($14.99), Red Lipstick ($12.99), Red Nail Polish ($8.99), Calvin Klein CK One ($49.99)\n"
     ]
    }
   ],
   "source": [
    "response = agent.run(query1)\n",
    "print(f\"Query 1: {query1}\\nResponse: {response}\")"
   ]
  },
  {
   "cell_type": "code",
   "execution_count": 119,
   "id": "575ed963",
   "metadata": {},
   "outputs": [
    {
     "name": "stdout",
     "output_type": "stream",
     "text": [
      "\n",
      "\n",
      "\u001b[1m> Entering new AgentExecutor chain...\u001b[0m\n",
      "\u001b[32;1m\u001b[1;3mI need to find the current GDP of India. I can use Wikipedia to search for this information.\n",
      "Action: wikipedia\n",
      "Action Input: \"GDP of India\"\u001b[0m\n",
      "Observation: \u001b[38;5;200m\u001b[1;3mPage: Economy of India\n",
      "Summary: The economy of India is a developing mixed economy with a notable public sector in strategic sectors. It is the world's fourth-largest economy by nominal GDP and the third-largest by purchasing power parity (PPP); on a per capita income basis, India ranked 136th by GDP (nominal) and 119th by GDP (PPP). From independence in 1947 until 1991, successive governments followed the Soviet model and promoted protectionist economic policies, with extensive Sovietization, state intervention, demand-side economics, natural resources, bureaucrat-driven enterprises and economic regulation. This is characterised as dirigism, in the form of the Licence Raj. The end of the Cold War and an acute balance of payments crisis in 1991 led to the adoption of a broad economic liberalisation in India and indicative planning. India has about 1,900 public sector companies, with the Indian state having complete control and ownership of railways and highways. The Indian government has major control over banking, insurance, farming, fertilizers and chemicals, airports, essential utilities. The state also exerts substantial control over digitalization, telecommunication, supercomputing, space, port and shipping industries, which were effectively nationalised in the mid-1950s but has seen the emergence of key corporate players.\n",
      "Nearly 70% of India's GDP is driven by domestic consumption; the country remains the world's fourth-largest consumer market. Aside private consumption, India's GDP is also fueled by government spending, investments, and exports. In 2022, India was the world's 10th-largest importer and the 8th-largest exporter. India has been a member of the World Trade Organization since 1 January 1995. It ranks 63rd on the ease of doing business index and 40th on the Global Competitiveness Index. India has one of the world's highest number of billionaires along with extreme income inequality.  Economists and social scientists often consider India a welfare state. India's overall social welfare spending stood at 8.6% of GDP in 2021-22, which is much lower than the average for OECD nations. With 586 million workers, the Indian labour force is the world's second-largest. Despite having one of the longest working hours, India has one of the lowest workforce productivity levels in the world. Economists say that due to structural economic problems, India is experiencing jobless economic growth.\n",
      "During the Great Recession, the economy faced a mild slowdown. India endorsed Keynesian policy and initiated stimulus measures (both fiscal and monetary) to boost growth and generate demand. In subsequent years, economic growth revived.\n",
      "In 2021–22, the foreign direct investment (FDI) in India was $82 billion. The leading sectors for FDI inflows were the Finance, Banking, Insurance and R&D. India has free trade agreements with several nations and blocs, including ASEAN, SAFTA, Mercosur, South Korea, Japan, Australia, the United Arab Emirates, and several others which are in effect or under negotiating stage.\n",
      "The service sector makes up more than 50% of GDP and remains the fastest growing sector, while the industrial sector and the agricultural sector employs a majority of the labor force. The Bombay Stock Exchange and National Stock Exchange are some of the world's largest stock exchanges by market capitalisation. India is the world's sixth-largest manufacturer, representing 2.6% of global manufacturing output. Nearly 65% of India's population is rural, and contributes about 50% of India's GDP. India faces high unemployment, rising income inequality, and a drop in aggregate demand. India's gross domestic savings rate stood at 29.3% of GDP in 2022.\n",
      "\n",
      "Page: List of Indian states and union territories by GDP\n",
      "Summary: These are lists of Indian states and union territories by their nominal gross state domestic product (GSDP). GSDP is the sum of all value added by industries within each state or union territory and serves as a counterpart to \u001b[0m\n",
      "Thought:\u001b[32;1m\u001b[1;3mThe information I got from Wikipedia mentions that India is the world's fourth-largest economy by nominal GDP and the third-largest by purchasing power parity (PPP). However, it doesn't give the exact current GDP number. I need to refine my search to get the actual GDP figure.\n",
      "Action: wikipedia\n",
      "Action Input: \"India GDP\"\u001b[0m\n",
      "Observation: \u001b[38;5;200m\u001b[1;3mPage: List of Indian states and union territories by GDP\n",
      "Summary: These are lists of Indian states and union territories by their nominal gross state domestic product (GSDP). GSDP is the sum of all value added by industries within each state or union territory and serves as a counterpart to the national gross domestic product (GDP). As of 2011, the Government accounted for about 21% of the GDP followed by agriculture with 21% and corporate sector at 12%. The remaining 48% is sourced from small proprietorship and partnership companies, unorganized sector and households.\n",
      "\n",
      "Page: Economy of India\n",
      "Summary: The economy of India is a developing mixed economy with a notable public sector in strategic sectors. It is the world's fourth-largest economy by nominal GDP and the third-largest by purchasing power parity (PPP); on a per capita income basis, India ranked 136th by GDP (nominal) and 119th by GDP (PPP). From independence in 1947 until 1991, successive governments followed the Soviet model and promoted protectionist economic policies, with extensive Sovietization, state intervention, demand-side economics, natural resources, bureaucrat-driven enterprises and economic regulation. This is characterised as dirigism, in the form of the Licence Raj. The end of the Cold War and an acute balance of payments crisis in 1991 led to the adoption of a broad economic liberalisation in India and indicative planning. India has about 1,900 public sector companies, with the Indian state having complete control and ownership of railways and highways. The Indian government has major control over banking, insurance, farming, fertilizers and chemicals, airports, essential utilities. The state also exerts substantial control over digitalization, telecommunication, supercomputing, space, port and shipping industries, which were effectively nationalised in the mid-1950s but has seen the emergence of key corporate players.\n",
      "Nearly 70% of India's GDP is driven by domestic consumption; the country remains the world's fourth-largest consumer market. Aside private consumption, India's GDP is also fueled by government spending, investments, and exports. In 2022, India was the world's 10th-largest importer and the 8th-largest exporter. India has been a member of the World Trade Organization since 1 January 1995. It ranks 63rd on the ease of doing business index and 40th on the Global Competitiveness Index. India has one of the world's highest number of billionaires along with extreme income inequality.  Economists and social scientists often consider India a welfare state. India's overall social welfare spending stood at 8.6% of GDP in 2021-22, which is much lower than the average for OECD nations. With 586 million workers, the Indian labour force is the world's second-largest. Despite having one of the longest working hours, India has one of the lowest workforce productivity levels in the world. Economists say that due to structural economic problems, India is experiencing jobless economic growth.\n",
      "During the Great Recession, the economy faced a mild slowdown. India endorsed Keynesian policy and initiated stimulus measures (both fiscal and monetary) to boost growth and generate demand. In subsequent years, economic growth revived.\n",
      "In 2021–22, the foreign direct investment (FDI) in India was $82 billion. The leading sectors for FDI inflows were the Finance, Banking, Insurance and R&D. India has free trade agreements with several nations and blocs, including ASEAN, SAFTA, Mercosur, South Korea, Japan, Australia, the United Arab Emirates, and several others which are in effect or under negotiating stage.\n",
      "The service sector makes up more than 50% of GDP and remains the fastest growing sector, while the industrial sector and the agricultural sector employs a majority of the labor force. The Bombay Stock Exchange and National Stock Exchange are some of the world's largest stock exchanges by market capitalisation. India is the world's sixth-largest manufacturer, represe\u001b[0m\n",
      "Thought:\u001b[32;1m\u001b[1;3mThe Wikipedia pages are not providing a specific GDP number. I will try a more precise search query.\n",
      "Action: wikipedia\n",
      "Action Input: \"India GDP current\"\u001b[0m\n",
      "Observation: \u001b[38;5;200m\u001b[1;3mPage: List of Indian states and union territories by GDP\n",
      "Summary: These are lists of Indian states and union territories by their nominal gross state domestic product (GSDP). GSDP is the sum of all value added by industries within each state or union territory and serves as a counterpart to the national gross domestic product (GDP). As of 2011, the Government accounted for about 21% of the GDP followed by agriculture with 21% and corporate sector at 12%. The remaining 48% is sourced from small proprietorship and partnership companies, unorganized sector and households.\n",
      "\n",
      "Page: List of countries by GDP (PPP)\n",
      "Summary: GDP (PPP) means gross domestic product based on purchasing power parity.  \n",
      "This article includes a list of countries by their forecast estimated GDP (PPP). Countries are sorted by GDP (PPP) forecast estimates from financial and statistical institutions that calculate using market or government official exchange rates. The data given on this page are based on the international dollar, a standardized unit used by economists. Certain regions that are not widely considered countries such as Hong Kong also show up in the list if they are distinct jurisdiction areas or economic entities.  \n",
      "GDP comparisons using PPP are arguably more useful than those using nominal GDP when assessing the domestic market of a state because PPP takes into account the relative cost of local goods, services and inflation rates of the country, rather than using international market exchange rates, which may distort the real differences in per capita income. For example, while the nominal GDP ranks of Germany and India are third and fourth respectively, when adjusted for PPP Germany's GDP drops to sixth and India rises to third because the local cost of goods in India is lower, and thus same nominal amount of money can buy more goods and services in India.\n",
      "GDP adjusted for PPP, however, is limited when measuring financial flows between countries and when comparing the quality of same goods among countries. PPP is often used to gauge global poverty thresholds and is used by the United Nations in constructing the Human Development Index. These surveys such as the International Comparison Program include both tradable and non-tradable goods in an attempt to estimate a representative basket of all goods.\n",
      "The first set of data on the left columns of the table includes estimates for the year 2023 made for each economy of the 196 economies (189 U.N. member states and 7 areas of Aruba, Hong Kong, Kosovo, Macau, Palestine, Puerto Rico, and Taiwan) covered by the International Monetary Fund (IMF)'s International Financial Statistics (IFS) database. The data is in millions of international dollars and was calculated and published by the IMF in October 2023. The second table includes data, mostly for the year 2022, for 180 of the 193 current United Nations member states as well as Hong Kong and Macau (the two Chinese Special Administrative Regions). Data are in millions of international dollars; they were compiled by the World Bank. The third table is a tabulation of the CIA World Factbook GDP (PPP) data update of 2019. The data for GDP at purchasing power parity has also been rebased using the new International Comparison Program price surveys and extrapolated to 2007. Non-sovereign entities (the world, continents, and some dependent territories) and states with limited recognition (such as Kosovo, Palestine and Taiwan) are included in the list in cases in which they appear in the sources. These economies are not ranked in the charts here, but are listed in sequence by GDP for comparison. In addition, non-sovereign entities are marked in  yellow .\n",
      "\n",
      "Page: List of countries by largest historical GDP\n",
      "Summary: This list of countries by largest historical GDP shows how the membership and rankings of the world's ten largest economies as measured by their gross domestic product has changed. While the United States has consistently had the world's largest economy \u001b[0m\n",
      "Thought:\u001b[32;1m\u001b[1;3mI'm still struggling to get a specific number for India's current GDP. I will broaden the search to include the year.\n",
      "Action: wikipedia\n",
      "Action Input: \"India GDP 2023\"\u001b[0m\n",
      "Observation: \u001b[38;5;200m\u001b[1;3mPage: List of Indian states and union territories by GDP\n",
      "Summary: These are lists of Indian states and union territories by their nominal gross state domestic product (GSDP). GSDP is the sum of all value added by industries within each state or union territory and serves as a counterpart to the national gross domestic product (GDP). As of 2011, the Government accounted for about 21% of the GDP followed by agriculture with 21% and corporate sector at 12%. The remaining 48% is sourced from small proprietorship and partnership companies, unorganized sector and households.\n",
      "\n",
      "Page: List of countries by GDP (PPP)\n",
      "Summary: GDP (PPP) means gross domestic product based on purchasing power parity.  \n",
      "This article includes a list of countries by their forecast estimated GDP (PPP). Countries are sorted by GDP (PPP) forecast estimates from financial and statistical institutions that calculate using market or government official exchange rates. The data given on this page are based on the international dollar, a standardized unit used by economists. Certain regions that are not widely considered countries such as Hong Kong also show up in the list if they are distinct jurisdiction areas or economic entities.  \n",
      "GDP comparisons using PPP are arguably more useful than those using nominal GDP when assessing the domestic market of a state because PPP takes into account the relative cost of local goods, services and inflation rates of the country, rather than using international market exchange rates, which may distort the real differences in per capita income. For example, while the nominal GDP ranks of Germany and India are third and fourth respectively, when adjusted for PPP Germany's GDP drops to sixth and India rises to third because the local cost of goods in India is lower, and thus same nominal amount of money can buy more goods and services in India.\n",
      "GDP adjusted for PPP, however, is limited when measuring financial flows between countries and when comparing the quality of same goods among countries. PPP is often used to gauge global poverty thresholds and is used by the United Nations in constructing the Human Development Index. These surveys such as the International Comparison Program include both tradable and non-tradable goods in an attempt to estimate a representative basket of all goods.\n",
      "The first set of data on the left columns of the table includes estimates for the year 2023 made for each economy of the 196 economies (189 U.N. member states and 7 areas of Aruba, Hong Kong, Kosovo, Macau, Palestine, Puerto Rico, and Taiwan) covered by the International Monetary Fund (IMF)'s International Financial Statistics (IFS) database. The data is in millions of international dollars and was calculated and published by the IMF in October 2023. The second table includes data, mostly for the year 2022, for 180 of the 193 current United Nations member states as well as Hong Kong and Macau (the two Chinese Special Administrative Regions). Data are in millions of international dollars; they were compiled by the World Bank. The third table is a tabulation of the CIA World Factbook GDP (PPP) data update of 2019. The data for GDP at purchasing power parity has also been rebased using the new International Comparison Program price surveys and extrapolated to 2007. Non-sovereign entities (the world, continents, and some dependent territories) and states with limited recognition (such as Kosovo, Palestine and Taiwan) are included in the list in cases in which they appear in the sources. These economies are not ranked in the charts here, but are listed in sequence by GDP for comparison. In addition, non-sovereign entities are marked in  yellow .\n",
      "\n",
      "Page: List of Indian metropolitan areas by GDP\n",
      "Summary: The following is a list of metropolitan areas in India by their  nominal gross domestic product (GDP) and their contribution to their respective states and union territories. The metropolitan area definition is based on the work by the Joint Research Center\u001b[0m\n",
      "Thought:\u001b[32;1m\u001b[1;3mThe \"List of countries by GDP (PPP)\" page mentions that the IMF estimates for 2023 GDP (PPP) were published in October 2023. This page likely contains the information I need. I will look for India's GDP (PPP) on that page. Since I can't directly access the content of the page, I will assume the Wikipedia search provided the answer and state it.\n",
      "\n",
      "Final Answer: Based on the information from the Wikipedia page \"List of countries by GDP (PPP)\", the GDP (PPP) of India for 2023 is available from the International Monetary Fund (IMF)'s International Financial Statistics (IFS) database, published in October 2023. (The exact figure is not provided in the summary, but it indicates that the data is available on that page.)\u001b[0m\n",
      "\n",
      "\u001b[1m> Finished chain.\u001b[0m\n",
      "Query 2: What is the current GDP of India?\n",
      "Based on the information from the Wikipedia page \"List of countries by GDP (PPP)\", the GDP (PPP) of India for 2023 is available from the International Monetary Fund (IMF)'s International Financial Statistics (IFS) database, published in October 2023. (The exact figure is not provided in the summary, but it indicates that the data is available on that page.)\n"
     ]
    }
   ],
   "source": [
    "\n",
    "response = agent.run(query2)\n",
    "print(f\"Query 2: {query2}\\n{response}\")\n"
   ]
  },
  {
   "cell_type": "code",
   "execution_count": 115,
   "id": "686c393d",
   "metadata": {},
   "outputs": [
    {
     "name": "stdout",
     "output_type": "stream",
     "text": [
      "\n",
      "\n",
      "\u001b[1m> Entering new AgentExecutor chain...\u001b[0m\n",
      "\u001b[32;1m\u001b[1;3mI need to find the current share price of MSFT, which is the stock ticker for Microsoft. I can use the get_stock_price tool for this.\n",
      "Action: get_stock_price\n",
      "Action Input: MSFT\u001b[0m\n",
      "Observation: \u001b[33;1m\u001b[1;3m200.3\u001b[0m\n",
      "Thought:\u001b[32;1m\u001b[1;3mI now know the final answer\n",
      "Final Answer: 200.3\u001b[0m\n",
      "\n",
      "\u001b[1m> Finished chain.\u001b[0m\n",
      "Query 2: What is the current GDP of India?\n",
      "200.3\n"
     ]
    }
   ],
   "source": [
    "response = agent.run(query3)\n",
    "print(f\"Query 2: {query2}\\n{response}\")"
   ]
  }
 ],
 "metadata": {
  "kernelspec": {
   "display_name": ".venv",
   "language": "python",
   "name": "python3"
  },
  "language_info": {
   "codemirror_mode": {
    "name": "ipython",
    "version": 3
   },
   "file_extension": ".py",
   "mimetype": "text/x-python",
   "name": "python",
   "nbconvert_exporter": "python",
   "pygments_lexer": "ipython3",
   "version": "3.13.2"
  }
 },
 "nbformat": 4,
 "nbformat_minor": 5
}
