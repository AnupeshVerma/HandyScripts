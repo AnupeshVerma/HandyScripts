{
 "cells": [
  {
   "cell_type": "code",
   "execution_count": 2,
   "id": "fcf64dae",
   "metadata": {},
   "outputs": [],
   "source": [
    "data = \"\"\"\n",
    "Census data will be available early as the ensuing Census will be the first digital Census in the country, Census India 2027, the official handle of Registrar General and Census Commissioner of India (RGI and CCI) posted on X on Monday (July 7, 2025). \n",
    "\n",
    "The first digital Census and will be conducted in two phases and “for the first time technology will be used to collect data and send it electronically to the central server” and “this will result in early availability of Census data,” RGI said. In the previous Census, it took at least 2-3 years for primary data to be available. \n",
    "\n",
    "Data will be collected using Mobile Apps (both Android & iOS) in English, Hindi and regional languages. Enumerators/Supervisors will use their own mobile device for data collection.” \n",
    "\n",
    "All States have been asked to appoint nodal officers for Population Census 2027 and residents will be able to self-enumerate in both the phases of the ensuing exercise, the RGI said.\n",
    "\n",
    "\"\"\"\n",
    "\n",
    "prompt = f\"Summarize the text-\\n {data}\""
   ]
  },
  {
   "cell_type": "markdown",
   "id": "c0b89046",
   "metadata": {},
   "source": [
    "## Text Summarization Using bart-large-cnn\n",
    "- The tokenizer converts raw text into token IDs (numerical representations) that the model can understand.\n",
    "- BartForConditionalGeneration is an encoder-decoder architecture designed for sequence-to-sequence tasks like summarization, translation, and text generation."
   ]
  },
  {
   "cell_type": "code",
   "execution_count": 3,
   "id": "5c0089c2",
   "metadata": {},
   "outputs": [
    {
     "name": "stderr",
     "output_type": "stream",
     "text": [
      "/Users/anupeshkumar.verma/Downloads/Projects/AI_ML/.venv/lib/python3.13/site-packages/tqdm/auto.py:21: TqdmWarning: IProgress not found. Please update jupyter and ipywidgets. See https://ipywidgets.readthedocs.io/en/stable/user_install.html\n",
      "  from .autonotebook import tqdm as notebook_tqdm\n",
      "Device set to use mps:0\n"
     ]
    }
   ],
   "source": [
    "from langchain_huggingface.llms import HuggingFacePipeline\n",
    "from transformers import BartForConditionalGeneration, BartTokenizer, pipeline\n",
    "\n",
    "model_name = \"facebook/bart-large-cnn\"\n",
    "tokenizer = BartTokenizer.from_pretrained(model_name)\n",
    "model = BartForConditionalGeneration.from_pretrained(model_name)\n",
    "\n",
    "# Create a Hugging Face pipeline with your loaded model and tokenizer\n",
    "pipe = pipeline(\n",
    "    \"summarization\",\n",
    "    model=model,\n",
    "    tokenizer=tokenizer,\n",
    "    max_new_tokens=1000\n",
    ")\n",
    "\n",
    "# Wrap the pipeline with LangChain’s HuggingFacePipeline\n",
    "llm = HuggingFacePipeline(pipeline=pipe)"
   ]
  },
  {
   "cell_type": "code",
   "execution_count": 5,
   "id": "627151f2",
   "metadata": {},
   "outputs": [
    {
     "name": "stdout",
     "output_type": "stream",
     "text": [
      "Census India 2027 will be the first digital Census in the country. Data will be collected using Mobile Apps (both Android & iOS) in English, Hindi and regional languages. Enumerators/Supervisors will use their own mobile device for data collection. All States have been asked to appoint nodal officers for Population Census 2027.\n"
     ]
    }
   ],
   "source": [
    "response = llm.invoke(prompt)\n",
    "print(response)"
   ]
  },
  {
   "cell_type": "markdown",
   "id": "a4563b5f",
   "metadata": {},
   "source": [
    "## Text Summarization Using bart-large-cnn (Without Pipeline)\n",
    "- num_beams is the beam width — the number of candidate sequences the model keeps track of during generation.\n",
    "- Instead of greedily choosing the single best token at each step (called greedy search), beam search keeps the top num_beams best partial sequences (\"beams\") and expands each of them at every step.\n",
    "- Greedy search (beam width = 1) can miss better sequences because it only picks the locally best token."
   ]
  },
  {
   "cell_type": "code",
   "execution_count": 16,
   "id": "34a15191",
   "metadata": {},
   "outputs": [
    {
     "name": "stdout",
     "output_type": "stream",
     "text": [
      "Census India 2027 will be the first digital Census in the country. Data will be collected using Mobile Apps (both Android & iOS) in English, Hindi and regional languages. Enumerators/Supervisors will use their own mobile device for data collection. All States have been asked to appoint nodal officers for Population Census 2027.\n"
     ]
    }
   ],
   "source": [
    "from transformers import BartTokenizer, BartForConditionalGeneration\n",
    "\n",
    "# Download and load the model weights and tokenizer into memory. \n",
    "tokenizer = BartTokenizer.from_pretrained(\"facebook/bart-large-cnn\")\n",
    "model = BartForConditionalGeneration.from_pretrained(\"facebook/bart-large-cnn\")\n",
    "\n",
    "inputs = tokenizer(prompt, return_tensors=\"pt\", max_length=1024, truncation=True)  # This generates input_ids\n",
    "summary_ids = model.generate(inputs['input_ids'], num_beams=4, max_length=130, early_stopping=True)\n",
    "summary = tokenizer.decode(summary_ids[0], skip_special_tokens=True)\n",
    "print(summary)\n"
   ]
  }
 ],
 "metadata": {
  "kernelspec": {
   "display_name": ".venv",
   "language": "python",
   "name": "python3"
  },
  "language_info": {
   "codemirror_mode": {
    "name": "ipython",
    "version": 3
   },
   "file_extension": ".py",
   "mimetype": "text/x-python",
   "name": "python",
   "nbconvert_exporter": "python",
   "pygments_lexer": "ipython3",
   "version": "3.13.2"
  }
 },
 "nbformat": 4,
 "nbformat_minor": 5
}
