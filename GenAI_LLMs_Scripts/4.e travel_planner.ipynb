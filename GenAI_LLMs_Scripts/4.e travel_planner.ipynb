{
 "cells": [
  {
   "cell_type": "markdown",
   "id": "07fa8df3",
   "metadata": {},
   "source": [
    "### Load the model"
   ]
  },
  {
   "cell_type": "code",
   "execution_count": 7,
   "id": "b8903e97",
   "metadata": {},
   "outputs": [
    {
     "name": "stdout",
     "output_type": "stream",
     "text": [
      "content='I am doing well, thank you for asking! How are you today?' additional_kwargs={} response_metadata={'prompt_feedback': {'block_reason': 0, 'safety_ratings': []}, 'finish_reason': 'STOP', 'model_name': 'gemini-2.0-flash', 'safety_ratings': []} id='run--3573072d-cec3-4b25-827e-9974810ae65c-0' usage_metadata={'input_tokens': 6, 'output_tokens': 16, 'total_tokens': 22, 'input_token_details': {'cache_read': 0}}\n"
     ]
    }
   ],
   "source": [
    "import LLM_builder\n",
    "\n",
    "llm = LLM_builder.loadGoogleGenerativeAI()\n",
    "print(llm.invoke(\"Hello, how are you?\"))"
   ]
  },
  {
   "cell_type": "markdown",
   "id": "d20c9c5b",
   "metadata": {},
   "source": [
    "### Define Agent State\n",
    "\n",
    "We'll define the state that our agent will maintain throughout its operation. First, define the [State](https://langchain-ai.github.io/langgraph/concepts/low_level/#state) of the graph.  The State schema serves as the input schema for all Nodes and Edges in the graph.\n",
    "\n",
    "itinerary -> a plan of a journey, including the route and the places that you will visit"
   ]
  },
  {
   "cell_type": "code",
   "execution_count": 8,
   "id": "b9d7d042",
   "metadata": {},
   "outputs": [],
   "source": [
    "from typing import Annotated, List, TypedDict\n",
    "from langchain.schema import HumanMessage, AIMessage\n",
    "\n",
    "class PlannerState(TypedDict):\n",
    "    \"\"\"The state of the planner agent\"\"\"\n",
    "    messages: Annotated[List[HumanMessage | AIMessage], \"The messages in the conversation\"]\n",
    "    itinerary: str\n",
    "    city: str\n",
    "    user_message: str"
   ]
  },
  {
   "cell_type": "markdown",
   "id": "70eb66d5",
   "metadata": {},
   "source": [
    "### Set up prompt\n",
    "#### 🔍 `MessagesPlaceholder` — What It Is\n",
    "\n",
    "`MessagesPlaceholder` is a utility class in LangChain that allows you to insert a dynamic list of chat messages (like previous conversation history) into a `ChatPromptTemplate`.\n",
    "\n",
    "#### 🧠 Purpose\n",
    "\n",
    "In a chat-based agent or app, you often need to provide the full chat history to the LLM so it can respond contextually. However, you don't want to hardcode the entire history in your prompt. Instead, you want to \"inject\" it dynamically when invoking the prompt.\n",
    "\n",
    "#### 🔁 How MessagesPlaceholder Works Under the Hood\n",
    "- It does not have static content.\n",
    "- It acts as a token in the message template, which gets replaced at runtime.\n",
    "- You must provide the actual content during format() or .invoke() call.\n",
    "\n",
    "#### ✅ Correct Usage:\n",
    "```python\n",
    "    prompt = ChatPromptTemplate.from_messages([\n",
    "        (\"system\", \"You are a helpful assistant.\"),\n",
    "        MessagesPlaceholder(\"chat_history\"),\n",
    "        (\"human\", \"{question}\")\n",
    "    ])\n",
    "\n",
    "    chat_history = [\n",
    "        HumanMessage(content=\"What’s the weather like in Paris?\"),\n",
    "        AIMessage(content=\"It's sunny in Paris.\"),\n",
    "    ]\n",
    "\n",
    "    final_prompt = prompt.format(\n",
    "        chat_history=chat_history,\n",
    "        question=\"What about tomorrow?\"\n",
    ")\n",
    "```"
   ]
  },
  {
   "cell_type": "code",
   "execution_count": 9,
   "id": "851cef5d",
   "metadata": {},
   "outputs": [],
   "source": [
    "from langchain.prompts.chat import ChatPromptTemplate, MessagesPlaceholder\n",
    "\n",
    "itinerary_prompt = ChatPromptTemplate.from_messages([\n",
    "    (\"system\", \"\"\"You are a helpful travel assistant. Create a day trip itinerary for {city} based on the user's interests. \n",
    "    Follow these instructions:\n",
    "    1. Use the below chat conversation and the latest input from Human to get the user interests.\n",
    "    2. Always account for travel time and meal times - if its not possible to do everything, then say so.\n",
    "    3. If the user hasn't stated a time of year or season, assume summer season in {city} and state this assumption in your response.\n",
    "    4. If the user hasn't stated a travel budget, assume a reasonable dollar amount and state this assumption in your response.\n",
    "    5. Provide a brief, bulleted itinerary in chronological order with specific hours of day.\"\"\"),\n",
    "    MessagesPlaceholder(\"chat_history\"),\n",
    "    (\"human\", \"{user_message}\"),\n",
    "])"
   ]
  },
  {
   "cell_type": "markdown",
   "id": "a1c2a4cd",
   "metadata": {},
   "source": [
    "### Create node function\n",
    "- ```state.get('messages', None)``` -> `if 'messages' in state: value = state['messages'] else: value = None`"
   ]
  },
  {
   "cell_type": "code",
   "execution_count": null,
   "id": "2b217f3b",
   "metadata": {},
   "outputs": [],
   "source": [
    "def create_itinerary(state: PlannerState) -> PlannerState:\n",
    "\n",
    "    if not state.get('messages', None) : state['messages'] = []\n",
    "\n",
    "    response = llm.invoke(itinerary_prompt.format_messages(city=state['city'], user_mesage=state['user_message'], chat_history=state['messages']))\n",
    "    print(\"\\nFinal Itinerary: \", response.content)\n",
    "\n",
    "    # Keeps all the previous states and update messages and itinerary\n",
    "    return {\n",
    "        **state,\n",
    "        \"messages\": state['messages'] + [HumanMessage(content=state['user_message']), AIMessage(content=response.content)],\n",
    "        \"itinerary\": response.content\n",
    "    }"
   ]
  },
  {
   "cell_type": "markdown",
   "id": "265bc311",
   "metadata": {},
   "source": [
    "#### 🧠 What is `MemorySaver` in LangGraph?\n",
    "`MemorySaver` is a checkpointing mechanism that helps store the state of your graph during execution. This means it remembers the state (a dictionary of values) between steps in your LangGraph-based workflow.\n",
    "\n",
    "#### 🔍 Why Do You Need This?\n",
    "LangGraph is a stateful graph execution engine. It processes inputs (like user requests) step-by-step through nodes (functions), updating and passing state between them.\n",
    "\n",
    "But what happens if:\n",
    "\n",
    "- The workflow gets interrupted?\n",
    "- You want to resume from where it left off?\n",
    "- You want to debug or inspect what happened at each step?\n",
    "- That's where checkpointing comes in.\n",
    "\n",
    "#### 📦 MemorySaver — How It Works\n",
    "MemorySaver is one of the simplest built-in checkpointers. It\n",
    "- Stores the entire state (i.e., PlannerState) in memory (RAM).\n",
    "- Keeps track of all intermediate steps of the graph execution.\n",
    "- Useful for debugging, local development, and experimentation.\n",
    "- It does not persist data to disk or database — it’s purely in-memory, so if you stop the program, everything is lost.\n",
    "\n",
    "#### 🧪 Example Behavior\n",
    "Let’s say your PlannerState looks like:\n",
    "```python\n",
    "{\n",
    "    \"user_message\": \"Plan a trip with boating and swimming\",\n",
    "    \"city\": \"Seattle\"\n",
    "}\n",
    "```\n",
    "As the state flows through the graph:\n",
    "\n",
    "`input_interests` runs and maybe appends to `state[\"messages\"]`.\n",
    "`create_itinerary` runs and adds `state[\"itinerary\"]`.\n",
    "At each step, MemorySaver stores the state like:\n",
    "```python\n",
    "Step 1: {'user_message': ..., 'city': ...}\n",
    "Step 2: {'user_message': ..., 'city': ..., 'messages': [...]}\n",
    "Step 3: {'user_message': ..., 'city': ..., 'messages': [...], 'itinerary': \"...\"}\n",
    "```\n",
    "You can even inspect all checkpoints after execution using:\n",
    "\n",
    "`memory.data`"
   ]
  },
  {
   "cell_type": "code",
   "execution_count": null,
   "id": "b43d9f86",
   "metadata": {},
   "outputs": [],
   "source": [
    "from langgraph.graph import StateGraph, START, END\n",
    "from langgraph.checkpoint.memory import MemorySaver\n",
    "\n",
    "workflow = StateGraph(PlannerState)\n",
    "\n",
    "#workflow.add_node(\"input_city\", input_city)\n",
    "# workflow.add_node(\"input_interests\", input_interests)\n",
    "workflow.add_node(\"create_itinerary\", create_itinerary)\n",
    "\n",
    "# workflow.set_entry_point(\"input_interests\")\n",
    "\n",
    "#workflow.add_edge(\"input_city\", \"input_interests\")\n",
    "workflow.add_edge(START, \"create_itinerary\")\n",
    "workflow.add_edge(\"create_itinerary\", END)\n",
    "\n",
    "# The checkpointer lets the graph persist its state\n",
    "# this is a complete memory for the entire graph.\n",
    "memory = MemorySaver()\n",
    "app = workflow.compile(checkpointer=memory)"
   ]
  },
  {
   "cell_type": "markdown",
   "id": "d17f6e95",
   "metadata": {},
   "source": [
    "### Display the graph structure\n",
    "\n",
    "Finally, we [compile our graph](https://langchain-ai.github.io/langgraph/concepts/low_level/#compiling-your-graph) to perform a few basic checks on the graph structure. We can visualize the graph as a [Mermaid diagram](https://github.com/mermaid-js/mermaid)."
   ]
  },
  {
   "cell_type": "code",
   "execution_count": 32,
   "id": "21eb1bbf",
   "metadata": {},
   "outputs": [
    {
     "data": {
      "image/png": "[encoded data removed]",
      "text/plain": [
       "<IPython.core.display.Image object>"
      ]
     },
     "metadata": {},
     "output_type": "display_data"
    }
   ],
   "source": [
    "from IPython.display import Image, display\n",
    "display(Image(app.get_graph().draw_mermaid_png()))"
   ]
  },
  {
   "cell_type": "markdown",
   "id": "6dcc4ae4",
   "metadata": {},
   "source": [
    "### Define the function that runs the graph\n",
    "\n",
    "When we compile the graph, we turn it into a LangChain Runnable, which automatically enables calling `.invoke()`, `.stream()` and `.batch()` with your inputs. In the following example, we run `stream()` to invoke the graph with inputs\n",
    "\n",
    "`.stream(...)` means you're running the LangGraph in streaming mode, where you get intermediate outputs one by one."
   ]
  },
  {
   "cell_type": "code",
   "execution_count": 33,
   "id": "b5abd564",
   "metadata": {},
   "outputs": [],
   "source": [
    "def run_travel_planner(user_request, config_dict: dict):\n",
    "    \"\"\"\n",
    "    Runs the travel planner agent.\n",
    "    \n",
    "    :param user_request: The user's request.\n",
    "    :param config_dict: The configuration dictionary.\n",
    "    \"\"\"\n",
    "    if user_request is None:\n",
    "        raise ValueError(\"user_request cannot be None\")\n",
    "\n",
    "    if config_dict is None:\n",
    "        raise ValueError(\"config_dict cannot be None\")\n",
    "\n",
    "    print(f\"Current User Request: {user_request}\\n\")\n",
    "    init_input = {\"user_message\": user_request,\"city\" : \"Seattle\"}\n",
    "\n",
    "    for output in app.stream(init_input, config=config_dict, stream_mode=\"values\"):\n",
    "        # print(f\"Output: {output}\")\n",
    "        pass"
   ]
  },
  {
   "cell_type": "code",
   "execution_count": 34,
   "id": "c32c9498",
   "metadata": {},
   "outputs": [
    {
     "name": "stdout",
     "output_type": "stream",
     "text": [
      "Current User Request: Can you create a itinerary for a day trip in Seattle with boating and swimming options. Need a complete plan\n",
      "\n",
      "\n",
      "Final Itinerary:  Okay! I can help you create a day trip itinerary for Seattle with boating and swimming options.\n",
      "\n",
      "Since you haven't specified the time of year, I'll assume you're planning this trip for the **summer season** in Seattle to take advantage of the warmer weather. I'll also assume a reasonable budget of **$200 per person** for activities, food, and transportation.\n",
      "\n",
      "Here's a possible itinerary:\n",
      "\n",
      "*   **9:00 AM:** Start your day with breakfast at **Caffe Ladro** in downtown Seattle. Grab a coffee and pastry to fuel up for the day.\n",
      "*   **10:00 AM:** Head to **Lake Union** for a morning of boating. Rent a boat from the **Northwest Outdoor Center** or **Seattle Boat Company**. You can choose from kayaks, paddleboards, or motorboats, depending on your preference and budget. Enjoy the views of the Seattle skyline and Gas Works Park from the water.\n",
      "*   **12:30 PM:** Have lunch at **Ivar's Acres of Clams** on Pier 54. Enjoy classic seafood dishes with waterfront views.\n",
      "*   **2:00 PM:** Take a ferry to **\n"
     ]
    }
   ],
   "source": [
    "config = {\"configurable\": {\"thread_id\": \"1\"}}\n",
    "\n",
    "user_request = \"Can you create a itinerary for a day trip in Seattle with boating and swimming options. Need a complete plan\"\n",
    "run_travel_planner(user_request, config)"
   ]
  }
 ],
 "metadata": {
  "kernelspec": {
   "display_name": ".venv",
   "language": "python",
   "name": "python3"
  },
  "language_info": {
   "codemirror_mode": {
    "name": "ipython",
    "version": 3
   },
   "file_extension": ".py",
   "mimetype": "text/x-python",
   "name": "python",
   "nbconvert_exporter": "python",
   "pygments_lexer": "ipython3",
   "version": "3.13.2"
  }
 },
 "nbformat": 4,
 "nbformat_minor": 5
}
