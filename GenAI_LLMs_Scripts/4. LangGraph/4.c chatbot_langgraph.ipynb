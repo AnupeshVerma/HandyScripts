{
 "cells": [
  {
   "cell_type": "markdown",
   "id": "a85d8dd0",
   "metadata": {},
   "source": [
    "### Load the LLM\n",
    "##### Instantiate the Language Model (LLM) with Gemini 2.0 Flash\n",
    " - temperature: Controls creativity (0 = deterministic, 1 = more random)\n",
    " - max_tokens: Limits the length of the response"
   ]
  },
  {
   "cell_type": "code",
   "execution_count": 2,
   "id": "9a8cccce",
   "metadata": {},
   "outputs": [],
   "source": [
    "from langchain_google_genai import ChatGoogleGenerativeAI\n",
    "\n",
    "llm = ChatGoogleGenerativeAI(\n",
    "    model=\"gemini-2.0-flash\",\n",
    "    temperature=0.7,\n",
    "    max_tokens=256,\n",
    ")"
   ]
  },
  {
   "cell_type": "markdown",
   "id": "990206db",
   "metadata": {},
   "source": [
    "### Define State\n",
    "TypedDict helps define a dictionary structure where specific keys have specific types\n",
    "Annotated is used to attach metadata to a type, here it's used to specify special behavior for the 'messages' list\n",
    "- list is the expected type (list of messages)\n",
    "- add_messages is a helper from LangGraph that tells the graph how to accumulate message history over time\n"
   ]
  },
  {
   "cell_type": "code",
   "execution_count": 3,
   "id": "821566c9",
   "metadata": {},
   "outputs": [],
   "source": [
    "from typing import TypedDict, Annotated\n",
    "from langgraph.graph.message import add_messages\n",
    "\n",
    "class State(TypedDict):\n",
    "    messages: Annotated[list, add_messages]"
   ]
  },
  {
   "cell_type": "markdown",
   "id": "fed6dd44",
   "metadata": {},
   "source": [
    "### Define chatbot node\n",
    "- The chatbot function takes in the current state (which contains the conversation history),\n",
    "- and returns an updated state with the new AI response appended."
   ]
  },
  {
   "cell_type": "code",
   "execution_count": 33,
   "id": "3cd4479d",
   "metadata": {},
   "outputs": [],
   "source": [
    "def chatbot(state: State) -> State:\n",
    "    return{\"messages\": [llm.invoke(state[\"messages\"])]}"
   ]
  },
  {
   "cell_type": "markdown",
   "id": "a247a7c1",
   "metadata": {},
   "source": [
    "### Build and compile graph"
   ]
  },
  {
   "cell_type": "code",
   "execution_count": 5,
   "id": "650329e9",
   "metadata": {},
   "outputs": [],
   "source": [
    "from langgraph.graph import StateGraph, START, END\n",
    "\n",
    "builder = StateGraph(State)\n",
    "builder.add_node(\"chatbot_node\", chatbot)\n",
    "\n",
    "builder.add_edge(START, \"chatbot_node\")\n",
    "builder.add_edge(\"chatbot_node\", END)\n",
    "\n",
    "graph = builder.compile()"
   ]
  },
  {
   "cell_type": "markdown",
   "id": "48e0bf6c",
   "metadata": {},
   "source": [
    "### Visualize the Graph\n",
    "- Visualize the structure of your graph in Jupyter environments"
   ]
  },
  {
   "cell_type": "code",
   "execution_count": 10,
   "id": "f60c2a43",
   "metadata": {},
   "outputs": [
    {
     "data": {
      "image/png": "[encoded data removed]",
      "text/plain": [
       "<IPython.core.display.Image object>"
      ]
     },
     "metadata": {},
     "output_type": "display_data"
    }
   ],
   "source": [
    "from IPython.display import Image, display\n",
    "\n",
    "display(Image(graph.get_graph().draw_mermaid_png()))"
   ]
  },
  {
   "cell_type": "markdown",
   "id": "86e8c7b1",
   "metadata": {},
   "source": [
    "### Test the graph with a single message"
   ]
  },
  {
   "cell_type": "code",
   "execution_count": 34,
   "id": "75181569",
   "metadata": {},
   "outputs": [
    {
     "name": "stdout",
     "output_type": "stream",
     "text": [
      "👤 Human: Who walked on the moon for the first time? Print only the name\n",
      "🤖 AI: Neil Armstrong\n"
     ]
    }
   ],
   "source": [
    "from langchain_core.messages import AIMessage, HumanMessage, ToolMessage\n",
    "\n",
    "message = {\"role\": \"user\", \"content\": \"Who walked on the moon for the first time? Print only the name\"}\n",
    "# message = {\"role\": \"user\", \"content\": \"What is langchain?\"}\n",
    "response = graph.invoke({\"messages\":[message]})\n",
    "\n",
    "\n",
    "# Print both user and AI messages clearly\n",
    "for msg in response[\"messages\"]:\n",
    "    if isinstance(msg, HumanMessage):\n",
    "        print(f\"👤 Human: {msg.content}\")\n",
    "    elif isinstance(msg, AIMessage):\n",
    "            print(f\"🤖 AI: {msg.content}\")"
   ]
  },
  {
   "cell_type": "markdown",
   "id": "3d71ac8c",
   "metadata": {},
   "source": [
    "### Loop-Based Interactive Chat (Memory Persisted)\n",
    "- Since this is a StateGraph, a state object has to be created "
   ]
  },
  {
   "cell_type": "code",
   "execution_count": 31,
   "id": "c18b0514",
   "metadata": {},
   "outputs": [
    {
     "name": "stdout",
     "output_type": "stream",
     "text": [
      "👤 You: Hi, I'm Anupesh and I'm a Data Engineer.\n",
      "🤖 Bot: Hi Anupesh! It's nice to meet you. Data Engineering is a fascinating and crucial field. What are you working on these days? I'm always interested in learning about the different projects and challenges Data Engineers face. Perhaps you're building data pipelines, working with cloud technologies, or optimizing data storage?\n",
      "\n",
      "Let me know if you have any questions for me, or if there's anything I can help you with!\n",
      "👤 You: Tell me my and my designation.\n",
      "🤖 Bot: Okay, I understand. Based on our conversation, you are **Anupesh, a Data Engineer.**\n"
     ]
    }
   ],
   "source": [
    "state = State({\"messages\": [{\"role\": \"user\", \"content\": \"You are a hellpful assistant\"}]})\n",
    "\n",
    "while True:\n",
    "    in_message = input(\"You: \")\n",
    "    if in_message.lower() in {\"quit\",\"exit\"}:\n",
    "        break\n",
    "    state[\"messages\"].append({\"role\": \"user\", \"content\": in_message})\n",
    "\n",
    "    state = graph.invoke(state)\n",
    "    print(\"👤 You:\", in_message)\n",
    "    print(\"🤖 Bot:\", state[\"messages\"][-1].content)"
   ]
  },
  {
   "cell_type": "markdown",
   "id": "a084af0a",
   "metadata": {},
   "source": [
    "### Another way of initializing chatbot"
   ]
  },
  {
   "cell_type": "code",
   "execution_count": 32,
   "id": "b7a664d4",
   "metadata": {},
   "outputs": [
    {
     "name": "stdout",
     "output_type": "stream",
     "text": [
      "You: Hi, I'm Anupesh and I'm a data engineer\n",
      "Bot: Hi Anupesh! Nice to meet you. It's great to connect with another data professional. Is there anything I can help you with today? Perhaps you have a question about data engineering, want to brainstorm a problem, or just want to chat about the field? Let me know!\n",
      "You: Tell me about me and my designation.\n",
      "Bot: Alright, Anupesh, let's talk about you and your designation as a Data Engineer. Based on that information, here's what I can tell you:\n",
      "\n",
      "**About Anupesh:**\n",
      "\n",
      "*   **Your Name:** Anupesh\n",
      "*   **Profession:** Data Engineer\n",
      "\n",
      "**About a Data Engineer:**\n",
      "\n",
      "Data Engineers are the architects and builders of the data ecosystem within an organization. They are responsible for designing, building, and maintaining the infrastructure that enables data to be collected, stored, processed, and made available for analysis and decision-making.\n",
      "\n",
      "Here's a more detailed breakdown of the role:\n",
      "\n",
      "*   **Core Responsibilities:**\n",
      "\n",
      "    *   **Data Pipeline Development:** Creating and maintaining robust and scalable data pipelines to extract, transform, and load (ETL) data from various sources into data warehouses, data lakes, or other data storage systems.  This often involves using tools like Apache Spark, Apache Kafka, Apache Airflow, and cloud-based data integration services.\n",
      "    *   **Data Storage Solutions:** Designing and implementing data storage solutions using databases (SQL and NoSQL), data warehouses (e.g., Snowflake, Amazon Redshift, Google BigQuery), and data lakes (e.g., Hadoop, Amazon\n"
     ]
    }
   ],
   "source": [
    "state = None\n",
    "\n",
    "while True:\n",
    "    in_message = input(\"You: \")\n",
    "    if in_message.lower() in {\"quit\",\"exit\"}:\n",
    "        break\n",
    "    if state is None:\n",
    "        state: State = {\n",
    "            \"messages\": [{\"role\": \"user\", \"content\": in_message}]\n",
    "        }\n",
    "    else:\n",
    "        state[\"messages\"].append({\"role\": \"user\", \"content\": in_message})\n",
    "\n",
    "    state = graph.invoke(state)\n",
    "    print(\"You:\", in_message)\n",
    "    print(\"Bot:\", state[\"messages\"][-1].content)"
   ]
  }
 ],
 "metadata": {
  "kernelspec": {
   "display_name": ".venv",
   "language": "python",
   "name": "python3"
  },
  "language_info": {
   "codemirror_mode": {
    "name": "ipython",
    "version": 3
   },
   "file_extension": ".py",
   "mimetype": "text/x-python",
   "name": "python",
   "nbconvert_exporter": "python",
   "pygments_lexer": "ipython3",
   "version": "3.13.2"
  }
 },
 "nbformat": 4,
 "nbformat_minor": 5
}
