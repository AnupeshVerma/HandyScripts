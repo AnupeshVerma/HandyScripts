{
 "cells": [
  {
   "cell_type": "markdown",
   "id": "8b3cf77f",
   "metadata": {},
   "source": [
    "### 📌 Disclaimer (Don't Judge)\n",
    "\n",
    "##### I was just learning\n",
    "\n",
    "- This project is a first attempt at building a multi-agent system and is intended solely for learning and experimentation purposes.\n",
    "\n",
    "- It may not follow best practices, contain bugs, or be optimized for performance, security, or scalability.\n",
    "- The architecture, code structure, and design choices reflect a work-in-progress approach as I explore the capabilities of agent-based systems using LangGraph and LangChain."
   ]
  },
  {
   "cell_type": "markdown",
   "id": "7561c37e",
   "metadata": {},
   "source": [
    "## Load the LLM model and wrap in pipeline"
   ]
  },
  {
   "cell_type": "code",
   "execution_count": 10,
   "id": "b8b3d830",
   "metadata": {},
   "outputs": [
    {
     "name": "stderr",
     "output_type": "stream",
     "text": [
      "Device set to use cpu\n"
     ]
    }
   ],
   "source": [
    "from transformers import pipeline\n",
    "from langchain_huggingface.llms import HuggingFacePipeline\n",
    "\n",
    "LLM_MODEL_ID = \"google/flan-t5-base\"  \n",
    "\n",
    "pipe = pipeline(\n",
    "    \"text2text-generation\",\n",
    "    model=LLM_MODEL_ID,\n",
    "    tokenizer=LLM_MODEL_ID,\n",
    "    max_new_tokens=256,     # Reduced max_new_tokens for conciseness\n",
    "    # temperature=0.1,       # Lower temperature for less randomness and more factual answers\n",
    "    do_sample=False,\n",
    "    device = -1             # set to -1 if no GPU available\n",
    ")\n",
    "llm = HuggingFacePipeline(pipeline=pipe)\n"
   ]
  },
  {
   "cell_type": "markdown",
   "id": "5888a726",
   "metadata": {},
   "source": [
    "## Functions to use in agents"
   ]
  },
  {
   "cell_type": "code",
   "execution_count": 15,
   "id": "85b29963",
   "metadata": {},
   "outputs": [],
   "source": [
    "def find_events(city: str) -> str:\n",
    "    \"\"\"\n",
    "    Find and return a list of events happening in the specified city.\n",
    "\n",
    "    Args:\n",
    "        city (str): The name of the city to lookup events for.\n",
    "\n",
    "    Returns:\n",
    "        str: A string describing events occurring in the city.\n",
    "    \"\"\"\n",
    "    return f\"Events in {city}: Concert, Art Exhibition, Food Festival.\"\n",
    "\n",
    "def get_weather(city: str) -> str:\n",
    "    \"\"\"\n",
    "    Retrieve the weather forecast for the specified city.\n",
    "\n",
    "    Args:\n",
    "        city (str): The name of the city to get the weather forecast for.\n",
    "\n",
    "    Returns:\n",
    "        str: A string describing the weather forecast in the city.\n",
    "    \"\"\"\n",
    "    return f\"The weather in {city} will be sunny with a high of 30°C.\"\n",
    "\n",
    "def combine_info_with_llm(events: str, weather: str) -> str:\n",
    "    prompt = (\n",
    "        f\"Here are some events: {events}\\n\"\n",
    "        f\"And here is the weather forecast: {weather}\\n\"\n",
    "        f\"Please provide a friendly recommendation combining both.\"\n",
    "    )\n",
    "    result = llm.invoke(prompt)\n",
    "    # print(f\"Result: {result}\")\n",
    "    if isinstance(result, dict):\n",
    "        return result.get(\"text\", \"\").strip()\n",
    "    return str(result).strip()"
   ]
  },
  {
   "cell_type": "markdown",
   "id": "8aa4317d",
   "metadata": {},
   "source": [
    "## Manual Agent creation without LangGraph"
   ]
  },
  {
   "cell_type": "code",
   "execution_count": 16,
   "id": "12bbf885",
   "metadata": {},
   "outputs": [
    {
     "name": "stdout",
     "output_type": "stream",
     "text": [
      "The weather in San Francisco will be sunny with a high of 30°C.\n"
     ]
    }
   ],
   "source": [
    "from transformers import pipeline\n",
    "from langchain_huggingface.llms import HuggingFacePipeline\n",
    "\n",
    "\n",
    "# Manual multi-agent workflow function\n",
    "def multi_agent_workflow(user_query: str) -> str:\n",
    "    city = None\n",
    "    if \"in\" in user_query:\n",
    "        city = user_query.split(\"in\")[-1].strip(\" .?\")\n",
    "    if not city:\n",
    "        return \"Could not determine the city from your query.\"\n",
    "\n",
    "    # Agent 1: find events\n",
    "    events = find_events(city)\n",
    "    # print(f\"Events: {events}\")\n",
    "\n",
    "    # Agent 2: get weather\n",
    "    weather = get_weather(city)\n",
    "    # print(f\"Weather: {weather}\")\n",
    "\n",
    "    # Agent 3: combine info via LLM\n",
    "    recommendation = combine_info_with_llm(events, weather)\n",
    "\n",
    "    return recommendation\n",
    "\n",
    "# Example usage\n",
    "query = \"Find events and weather in San Francisco.\"\n",
    "response = multi_agent_workflow(query)\n",
    "print(response)\n"
   ]
  },
  {
   "cell_type": "markdown",
   "id": "7f075cb9",
   "metadata": {},
   "source": [
    "## Agent creation using LangGraph"
   ]
  },
  {
   "cell_type": "code",
   "execution_count": 17,
   "id": "80ec4d3e",
   "metadata": {},
   "outputs": [],
   "source": [
    "from typing import TypedDict\n",
    "\n",
    "class WorkflowState(TypedDict, total=False):\n",
    "    user_query: str\n",
    "    city: str\n",
    "    events: str\n",
    "    weather: str\n",
    "    recommendation: str\n"
   ]
  },
  {
   "cell_type": "code",
   "execution_count": 18,
   "id": "cb3c50f1",
   "metadata": {},
   "outputs": [],
   "source": [
    "def agent1_find_city(state: WorkflowState) -> WorkflowState:\n",
    "    query = state.get(\"user_query\", \"\")\n",
    "    city = None\n",
    "    if \"in\" in query:\n",
    "        city = query.split(\"in\")[-1].strip(\" .?\")\n",
    "    state[\"city\"] = city or \"\"\n",
    "    return state\n",
    "\n",
    "def agent2_find_events(state: WorkflowState) -> WorkflowState:\n",
    "    city = state.get(\"city\", \"\")\n",
    "    if city:\n",
    "        state[\"events\"] = find_events(city)\n",
    "    else:\n",
    "        state[\"events\"] = \"No city provided.\"\n",
    "    return state\n",
    "\n",
    "def agent3_find_weather(state: WorkflowState) -> WorkflowState:\n",
    "    city = state.get(\"city\", \"\")\n",
    "    if city:\n",
    "        state[\"weather\"] = get_weather(city)\n",
    "    else:\n",
    "        state[\"weather\"] = \"No city provided.\"\n",
    "    return state\n",
    "\n",
    "def agent4_combine(state: WorkflowState) -> WorkflowState:\n",
    "    events = state.get(\"events\", \"\")\n",
    "    weather = state.get(\"weather\", \"\")\n",
    "    prompt = (\n",
    "        f\"Here are some events: {events}\\n\"\n",
    "        f\"And here is the weather forecast: {weather}\\n\"\n",
    "        f\"Please provide a friendly recommendation combining both.\"\n",
    "    )\n",
    "    llm_output = llm.invoke(prompt)\n",
    "    if isinstance(llm_output, dict):\n",
    "        llm_output = llm_output.get(\"text\", \"\")\n",
    "    state[\"recommendation\"] = llm_output.strip()\n",
    "    return state\n"
   ]
  },
  {
   "cell_type": "code",
   "execution_count": 19,
   "id": "28b3b507",
   "metadata": {},
   "outputs": [],
   "source": [
    "from langgraph.graph import StateGraph, MessagesState, START, END\n",
    "\n",
    "# Instantiate a state graph with the WorkflowState as the state\n",
    "graph_builder = StateGraph(WorkflowState)\n",
    "\n",
    "graph_builder.add_node(\"find_city\", agent1_find_city)\n",
    "graph_builder.add_node(\"find_events\", agent2_find_events)\n",
    "graph_builder.add_node(\"find_weather\", agent3_find_weather)\n",
    "graph_builder.add_node(\"combine\", agent4_combine)\n",
    "\n",
    "# Define edges between agents\n",
    "graph_builder.add_edge(START, \"find_city\")\n",
    "graph_builder.add_edge(\"find_city\", \"find_events\")\n",
    "graph_builder.add_edge(\"find_events\", \"find_weather\")\n",
    "graph_builder.add_edge(\"find_weather\", \"combine\")\n",
    "graph_builder.add_edge(\"combine\", END)\n",
    "\n",
    "# Compile the graph\n",
    "multi_agent_graph = graph_builder.compile()\n"
   ]
  },
  {
   "cell_type": "markdown",
   "id": "d60b39aa",
   "metadata": {},
   "source": [
    "### Visualize graph"
   ]
  },
  {
   "cell_type": "code",
   "execution_count": 20,
   "id": "0337a89f",
   "metadata": {},
   "outputs": [
    {
     "data": {
      "image/png": "[encoded data removed]",
      "text/plain": [
       "<IPython.core.display.Image object>"
      ]
     },
     "metadata": {},
     "output_type": "display_data"
    }
   ],
   "source": [
    "from IPython.display import display, Image\n",
    "\n",
    "# This generates a PNG image of the graph using Mermaid rendering\n",
    "png_data = multi_agent_graph.get_graph().draw_mermaid_png()\n",
    "\n",
    "# Display inline in Jupyter notebook / IPython environment\n",
    "display(Image(png_data))\n"
   ]
  },
  {
   "cell_type": "markdown",
   "id": "7c49c916",
   "metadata": {},
   "source": [
    "### Test the agents\n",
    "- LangGraph expects the input state according to the State type, so pass as dict"
   ]
  },
  {
   "cell_type": "code",
   "execution_count": 21,
   "id": "49b0a0ac",
   "metadata": {},
   "outputs": [
    {
     "name": "stdout",
     "output_type": "stream",
     "text": [
      "Final recommendation:\n",
      "The weather in San Francisco will be sunny with a high of 30°C.\n"
     ]
    }
   ],
   "source": [
    "initial_state = {\"user_query\": \"Find events and weather in San Francisco.\"}\n",
    "\n",
    "final_state = multi_agent_graph.invoke(initial_state)\n",
    "\n",
    "print(\"Final recommendation:\")\n",
    "print(final_state.get(\"recommendation\", \"No recommendation generated.\"))\n"
   ]
  }
 ],
 "metadata": {
  "kernelspec": {
   "display_name": ".venv",
   "language": "python",
   "name": "python3"
  },
  "language_info": {
   "codemirror_mode": {
    "name": "ipython",
    "version": 3
   },
   "file_extension": ".py",
   "mimetype": "text/x-python",
   "name": "python",
   "nbconvert_exporter": "python",
   "pygments_lexer": "ipython3",
   "version": "3.13.2"
  }
 },
 "nbformat": 4,
 "nbformat_minor": 5
}
